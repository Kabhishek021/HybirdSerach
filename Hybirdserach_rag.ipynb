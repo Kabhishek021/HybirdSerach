{
 "cells": [
  {
   "cell_type": "code",
   "execution_count": 13,
   "id": "8f2c1a28",
   "metadata": {},
   "outputs": [],
   "source": [
    "# !pip install --upgrade --quiet  pinecone-client pinecone-text pinecone-notebooks"
   ]
  },
  {
   "cell_type": "code",
   "execution_count": 14,
   "id": "8940dddf",
   "metadata": {},
   "outputs": [
    {
     "name": "stdout",
     "output_type": "stream",
     "text": [
      "Note: you may need to restart the kernel to use updated packages.\n"
     ]
    }
   ],
   "source": [
    "pip install --upgrade --quiet pinecone pinecone-text pinecone-notebooks\n"
   ]
  },
  {
   "cell_type": "code",
   "execution_count": null,
   "id": "4acdaf10",
   "metadata": {},
   "outputs": [],
   "source": []
  },
  {
   "cell_type": "code",
   "execution_count": 15,
   "id": "386a60f5",
   "metadata": {},
   "outputs": [
    {
     "data": {
      "text/plain": [
       "True"
      ]
     },
     "execution_count": 15,
     "metadata": {},
     "output_type": "execute_result"
    }
   ],
   "source": [
    "from dotenv import load_dotenv\n",
    "import os\n",
    "\n",
    "load_dotenv() "
   ]
  },
  {
   "cell_type": "code",
   "execution_count": 16,
   "id": "cb2a3d6f",
   "metadata": {},
   "outputs": [],
   "source": [
    "os.environ['PINECONE_API_KEY'] =os.getenv('PINECONE_API_KEY')"
   ]
  },
  {
   "cell_type": "code",
   "execution_count": 17,
   "id": "6cf9db1b",
   "metadata": {},
   "outputs": [],
   "source": [
    "from langchain_community.retrievers import PineconeHybridSearchRetriever"
   ]
  },
  {
   "cell_type": "code",
   "execution_count": 18,
   "id": "ffef803c",
   "metadata": {},
   "outputs": [],
   "source": [
    "# create the index\n",
    "# os.environ['PINECONE_API_KEY'] =os.getenv('PINECONE_API_KEY')\n",
    "from pinecone import Pinecone ,ServerlessSpec\n",
    "index_name ='hybird-search-langchain-pinecone'\n",
    "\n",
    "#initializze the Pinecone client\n",
    "\n",
    "pc = Pinecone()\n",
    "\n",
    "#ctreat the index\n",
    "\n",
    "if index_name not in pc.list_indexes().names():\n",
    "    pc.create_index(\n",
    "            name = index_name ,\n",
    "            dimension= 384 ,# dimension of dense vector\n",
    "            metric= 'dotproduct', # sparse values supported only for dotproduct\n",
    "            spec = ServerlessSpec(cloud ='aws', region ='us-east-1')\n",
    "\n",
    "\n",
    "    )"
   ]
  },
  {
   "cell_type": "code",
   "execution_count": 19,
   "id": "f36b6f22",
   "metadata": {},
   "outputs": [
    {
     "data": {
      "text/plain": [
       "<pinecone.data.index.Index at 0x2be14d52e00>"
      ]
     },
     "execution_count": 19,
     "metadata": {},
     "output_type": "execute_result"
    }
   ],
   "source": [
    "index = pc.Index(index_name)\n",
    "index"
   ]
  },
  {
   "cell_type": "code",
   "execution_count": 20,
   "id": "f99085f0",
   "metadata": {},
   "outputs": [
    {
     "data": {
      "text/plain": [
       "HuggingFaceEmbeddings(model_name='sentence-transformers/all-MiniLM-L6-v2', cache_folder=None, model_kwargs={}, encode_kwargs={}, multi_process=False, show_progress=False)"
      ]
     },
     "execution_count": 20,
     "metadata": {},
     "output_type": "execute_result"
    }
   ],
   "source": [
    "## vector embedding and sparse matrix\n",
    "os.environ['HF_TOKEN'] =os.getenv('HF_TOKEN')\n",
    "\n",
    "\n",
    "\n",
    "from langchain_huggingface import HuggingFaceEmbeddings\n",
    "\n",
    "embeddings = HuggingFaceEmbeddings(model_name ='sentence-transformers/all-MiniLM-L6-v2')\n",
    "embeddings"
   ]
  },
  {
   "cell_type": "code",
   "execution_count": 21,
   "id": "782f5e23",
   "metadata": {},
   "outputs": [
    {
     "data": {
      "text/plain": [
       "<pinecone_text.sparse.bm25_encoder.BM25Encoder at 0x2be50c4f580>"
      ]
     },
     "execution_count": 21,
     "metadata": {},
     "output_type": "execute_result"
    }
   ],
   "source": [
    "# sparse  matrix\n",
    "\n",
    "from pinecone_text.sparse import BM25Encoder\n",
    "\n",
    "bm25_encoder = BM25Encoder().default()\n",
    "bm25_encoder"
   ]
  },
  {
   "cell_type": "code",
   "execution_count": 22,
   "id": "28ed84b6",
   "metadata": {},
   "outputs": [
    {
     "name": "stderr",
     "output_type": "stream",
     "text": [
      "100%|██████████| 3/3 [00:00<00:00, 2088.80it/s]\n"
     ]
    }
   ],
   "source": [
    "sentences = [\n",
    "        \"In 2023 i visited Paris\",\n",
    "        \"In 2024 , I visited New york\",\n",
    "        \"in 2025 ,i visited Dubai\"\n",
    "\n",
    "\n",
    "]\n",
    "\n",
    "\n",
    "# tfidf values on these sentence\n",
    "bm25_encoder.fit(sentences)\n",
    "\n",
    "## stores the values to a json file \n",
    "bm25_encoder.dump('bm25_values.json')"
   ]
  },
  {
   "cell_type": "code",
   "execution_count": 23,
   "id": "43448549",
   "metadata": {},
   "outputs": [
    {
     "data": {
      "text/plain": [
       "PineconeHybridSearchRetriever(embeddings=HuggingFaceEmbeddings(model_name='sentence-transformers/all-MiniLM-L6-v2', cache_folder=None, model_kwargs={}, encode_kwargs={}, multi_process=False, show_progress=False), sparse_encoder=<pinecone_text.sparse.bm25_encoder.BM25Encoder object at 0x000002BE50C4F580>, index=<pinecone.data.index.Index object at 0x000002BE14D52E00>)"
      ]
     },
     "execution_count": 23,
     "metadata": {},
     "output_type": "execute_result"
    }
   ],
   "source": [
    "retriever = PineconeHybridSearchRetriever(embeddings= embeddings , sparse_encoder= bm25_encoder , index = index)\n",
    "\n",
    "retriever"
   ]
  },
  {
   "cell_type": "code",
   "execution_count": 24,
   "id": "8ecf6209",
   "metadata": {},
   "outputs": [
    {
     "name": "stderr",
     "output_type": "stream",
     "text": [
      "100%|██████████| 1/1 [00:03<00:00,  3.01s/it]\n"
     ]
    }
   ],
   "source": [
    "retriever.add_texts (\n",
    "     [\n",
    "        \"In 2023 i visited Paris\",\n",
    "        \"In 2024 , I visited New york\",\n",
    "        \"in 2025 ,i visited Dubai\"\n",
    "\n",
    "\n",
    "]\n",
    ")"
   ]
  },
  {
   "cell_type": "code",
   "execution_count": 25,
   "id": "a8132d95",
   "metadata": {},
   "outputs": [
    {
     "data": {
      "text/plain": [
       "[Document(metadata={'score': 0.26735}, page_content='In 2024 , I visited New york'),\n",
       " Document(metadata={'score': 0.230950952}, page_content='In 2023 i visited Paris'),\n",
       " Document(metadata={'score': 0.186537176}, page_content='in 2025 ,i visited Dubai')]"
      ]
     },
     "execution_count": 25,
     "metadata": {},
     "output_type": "execute_result"
    }
   ],
   "source": [
    "retriever.invoke ('what city did i visit last ')"
   ]
  },
  {
   "cell_type": "code",
   "execution_count": 26,
   "id": "624720e7",
   "metadata": {},
   "outputs": [
    {
     "data": {
      "text/plain": [
       "[Document(metadata={'score': 0.241437107}, page_content='In 2024 , I visited New york'),\n",
       " Document(metadata={'score': 0.19892031}, page_content='In 2023 i visited Paris'),\n",
       " Document(metadata={'score': 0.161007136}, page_content='in 2025 ,i visited Dubai')]"
      ]
     },
     "execution_count": 26,
     "metadata": {},
     "output_type": "execute_result"
    }
   ],
   "source": [
    "retriever.invoke ('what city did i visit recent ')"
   ]
  },
  {
   "cell_type": "code",
   "execution_count": null,
   "id": "adc224d9",
   "metadata": {},
   "outputs": [],
   "source": []
  },
  {
   "cell_type": "code",
   "execution_count": null,
   "id": "a652f4bd",
   "metadata": {},
   "outputs": [],
   "source": []
  },
  {
   "cell_type": "code",
   "execution_count": null,
   "id": "5f68a279",
   "metadata": {},
   "outputs": [],
   "source": []
  },
  {
   "cell_type": "code",
   "execution_count": null,
   "id": "031e453d",
   "metadata": {},
   "outputs": [],
   "source": []
  }
 ],
 "metadata": {
  "kernelspec": {
   "display_name": "Python 3",
   "language": "python",
   "name": "python3"
  },
  "language_info": {
   "codemirror_mode": {
    "name": "ipython",
    "version": 3
   },
   "file_extension": ".py",
   "mimetype": "text/x-python",
   "name": "python",
   "nbconvert_exporter": "python",
   "pygments_lexer": "ipython3",
   "version": "3.10.16"
  }
 },
 "nbformat": 4,
 "nbformat_minor": 5
}
